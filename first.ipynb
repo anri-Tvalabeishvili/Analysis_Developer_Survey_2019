{
 "cells": [
  {
   "cell_type": "code",
   "execution_count": 1,
   "metadata": {},
   "outputs": [],
   "source": [
    "from sympy import *\n",
    "import matplotlib.pyplot as plt\n",
    "import numpy as m\n",
    "\n",
    "\n",
    "x , y , z , m , k , T , v = symbols('x y z m k T v') \n",
    "init_printing ()\n",
    "\n"
   ]
  },
  {
   "cell_type": "code",
   "execution_count": 9,
   "metadata": {},
   "outputs": [
    {
     "data": {
      "image/png": "[encoded data removed]",
      "text/latex": [
       "$\\displaystyle 2 v e^{- \\frac{m v^{2}}{2 T k}} - \\frac{m v^{3} e^{- \\frac{m v^{2}}{2 T k}}}{T k}$"
      ],
      "text/plain": [
       "                        2 \n",
       "         2          -m⋅v  \n",
       "     -m⋅v           ──────\n",
       "     ──────      3  2⋅T⋅k \n",
       "     2⋅T⋅k    m⋅v ⋅ℯ      \n",
       "2⋅v⋅ℯ       - ────────────\n",
       "                  T⋅k     "
      ]
     },
     "execution_count": 9,
     "metadata": {},
     "output_type": "execute_result"
    }
   ],
   "source": [
    "diff((v**2) * exp(-((m*v**2) / (2*k*T))) , v)"
   ]
  },
  {
   "cell_type": "code",
   "execution_count": 11,
   "metadata": {},
   "outputs": [
    {
     "data": {
      "text/latex": [
       "$\\displaystyle \\begin{cases} \\frac{\\left(- 2 T^{2} k^{2} - T k m v^{2}\\right) e^{- \\frac{m v^{2}}{2 T k}}}{m^{2}} & \\text{for}\\: m^{2} \\neq 0 \\\\\\frac{v^{4}}{4} & \\text{otherwise} \\end{cases}$"
      ],
      "text/plain": [
       "⎧                            2             \n",
       "⎪                        -m⋅v              \n",
       "⎪                        ──────            \n",
       "⎪⎛     2  2          2⎞  2⋅T⋅k             \n",
       "⎪⎝- 2⋅T ⋅k  - T⋅k⋅m⋅v ⎠⋅ℯ             2    \n",
       "⎪──────────────────────────────  for m  ≠ 0\n",
       "⎨               2                          \n",
       "⎪              m                           \n",
       "⎪                                          \n",
       "⎪               4                          \n",
       "⎪              v                           \n",
       "⎪              ──                otherwise \n",
       "⎩              4                           "
      ]
     },
     "execution_count": 11,
     "metadata": {},
     "output_type": "execute_result"
    }
   ],
   "source": [
    "integrate((v**3) * exp(-((m*v**2) / (2*k*T))) , v)"
   ]
  },
  {
   "cell_type": "code",
   "execution_count": 4,
   "metadata": {},
   "outputs": [
    {
     "data": {
      "image/png": "[encoded data removed]",
      "text/latex": [
       "$\\displaystyle 16 \\log{\\left(15 \\right)} \\sin{\\left(x \\right)} \\cos{\\left(x \\right)}$"
      ],
      "text/plain": [
       "16⋅log(15)⋅sin(x)⋅cos(x)"
      ]
     },
     "execution_count": 4,
     "metadata": {},
     "output_type": "execute_result"
    }
   ],
   "source": [
    "\n",
    "log(15) * 8 * sin(x) * cos(x)*2"
   ]
  },
  {
   "cell_type": "code",
   "execution_count": 5,
   "metadata": {},
   "outputs": [
    {
     "data": {
      "image/png": "[encoded data removed]",
      "text/latex": [
       "$\\displaystyle \\frac{5}{2}$"
      ],
      "text/plain": [
       "5/2"
      ]
     },
     "execution_count": 5,
     "metadata": {},
     "output_type": "execute_result"
    }
   ],
   "source": [
    "limit((x**2) / 10, x , 5)"
   ]
  },
  {
   "cell_type": "code",
   "execution_count": 6,
   "metadata": {},
   "outputs": [
    {
     "data": {
      "image/png": "[encoded data removed]",
      "text/latex": [
       "$\\displaystyle \\sin^{2}{\\left(7 \\right)}$"
      ],
      "text/plain": [
       "   2   \n",
       "sin (7)"
      ]
     },
     "execution_count": 6,
     "metadata": {},
     "output_type": "execute_result"
    }
   ],
   "source": [
    "limit(sin(x)**2 , x , 7)"
   ]
  },
  {
   "cell_type": "code",
   "execution_count": 7,
   "metadata": {},
   "outputs": [
    {
     "data": {
      "image/png": "[encoded data removed]",
      "text/latex": [
       "$\\displaystyle - \\frac{\\cos{\\left(x \\right)}}{\\sin^{2}{\\left(x \\right)}}$"
      ],
      "text/plain": [
       "-cos(x) \n",
       "────────\n",
       "   2    \n",
       "sin (x) "
      ]
     },
     "execution_count": 7,
     "metadata": {},
     "output_type": "execute_result"
    }
   ],
   "source": [
    "diff((1/sin(x)) , x)"
   ]
  },
  {
   "cell_type": "code",
   "execution_count": 8,
   "metadata": {},
   "outputs": [
    {
     "data": {
      "image/png": "[encoded data removed]",
      "text/plain": [
       "<Figure size 432x288 with 1 Axes>"
      ]
     },
     "metadata": {
      "needs_background": "light"
     },
     "output_type": "display_data"
    }
   ],
   "source": [
    "\n",
    "x= m.arange(0,5,1)\n",
    "y=m.sin(x)\n",
    "\n",
    "plt.plot(x,y)\n",
    "plt.show()"
   ]
  },
  {
   "cell_type": "code",
   "execution_count": 9,
   "metadata": {},
   "outputs": [
    {
     "data": {
      "image/png": "[encoded data removed]",
      "text/plain": [
       "<Figure size 432x288 with 1 Axes>"
      ]
     },
     "metadata": {
      "needs_background": "light"
     },
     "output_type": "display_data"
    }
   ],
   "source": [
    "x= m.arange(0,5,0.1)\n",
    "y=m.cos(x)\n",
    "\n",
    "plt.plot(x,y)\n",
    "plt.show()"
   ]
  },
  {
   "cell_type": "code",
   "execution_count": 3,
   "metadata": {},
   "outputs": [
    {
     "data": {
      "image/png": "[encoded data removed]",
      "text/latex": [
       "$\\displaystyle 240.534814383951$"
      ],
      "text/plain": [
       "240.53481438395065"
      ]
     },
     "execution_count": 3,
     "metadata": {},
     "output_type": "execute_result"
    }
   ],
   "source": [
    "anri = integrate(sin(x)+log(x,10)+(1/cos(5))+exp(-x), (x, 0, 50))\n",
    "\n",
    "anri\n",
    "float(anri)\n",
    "\n",
    "\n"
   ]
  },
  {
   "cell_type": "code",
   "execution_count": null,
   "metadata": {},
   "outputs": [
    {
     "data": {
      "image/png": "[encoded data removed]",
      "text/latex": [
       "$\\displaystyle 1$"
      ],
      "text/plain": [
       "1"
      ]
     },
     "execution_count": 59,
     "metadata": {},
     "output_type": "execute_result"
    }
   ],
   "source": [
    "limit( (x+1) / sqrt((x**2 + 1)) , x , oo)\n",
    "#ruso"
   ]
  },
  {
   "cell_type": "code",
   "execution_count": null,
   "metadata": {},
   "outputs": [
    {
     "data": {
      "image/png": "[encoded data removed]",
      "text/latex": [
       "$\\displaystyle - \\frac{3}{2}$"
      ],
      "text/plain": [
       "-3/2"
      ]
     },
     "execution_count": 61,
     "metadata": {},
     "output_type": "execute_result"
    }
   ],
   "source": [
    "limit ( (sqrt(x**2 + 2) + 5*x) / (3-4*x)  ,x,oo )\n",
    "#qristine"
   ]
  },
  {
   "cell_type": "code",
   "execution_count": null,
   "metadata": {},
   "outputs": [
    {
     "data": {
      "image/png": "[encoded data removed]",
      "text/latex": [
       "$\\displaystyle - \\frac{1}{2}$"
      ],
      "text/plain": [
       "-1/2"
      ]
     },
     "execution_count": 69,
     "metadata": {},
     "output_type": "execute_result"
    }
   ],
   "source": [
    "limit ( (x**2 - (x+2)**(1/5) ) / (3*x**(1/2) -  2*x**2)  ,x,oo)\n",
    "#ruso"
   ]
  },
  {
   "cell_type": "code",
   "execution_count": null,
   "metadata": {},
   "outputs": [
    {
     "data": {
      "image/png": "[encoded data removed]",
      "text/latex": [
       "$\\displaystyle 2.66666666666667$"
      ],
      "text/plain": [
       "2.66666666666667"
      ]
     },
     "execution_count": 71,
     "metadata": {},
     "output_type": "execute_result"
    }
   ],
   "source": [
    "limit ( (8*x**3 - (x**4 + 1)**(1/3)) / (  (9*x**6 + 7*x)**(1/2) - x)  ,x,oo )\n",
    "#qristine"
   ]
  },
  {
   "cell_type": "code",
   "execution_count": null,
   "metadata": {},
   "outputs": [
    {
     "data": {
      "image/png": "[encoded data removed]",
      "text/latex": [
       "$\\displaystyle e^{-15}$"
      ],
      "text/plain": [
       " -15\n",
       "ℯ   "
      ]
     },
     "execution_count": 73,
     "metadata": {},
     "output_type": "execute_result"
    }
   ],
   "source": [
    "limit( ( (x-3) / (x+2))**(3*x - 2)  , x, oo)\n",
    "\n",
    "#ruso"
   ]
  },
  {
   "cell_type": "code",
   "execution_count": null,
   "metadata": {},
   "outputs": [
    {
     "data": {
      "image/png": "[encoded data removed]",
      "text/latex": [
       "$\\displaystyle e^{\\frac{7}{3}}$"
      ],
      "text/plain": [
       " 7/3\n",
       "ℯ   "
      ]
     },
     "execution_count": 75,
     "metadata": {},
     "output_type": "execute_result"
    }
   ],
   "source": [
    "limit ( ( (x+10) / (x+3 )) ** ( (x/3) -1) , x, oo )\n",
    "\n",
    "#qristine"
   ]
  },
  {
   "cell_type": "code",
   "execution_count": null,
   "metadata": {},
   "outputs": [
    {
     "data": {
      "text/latex": [
       "$\\displaystyle \\left[\\begin{matrix}3 & -1\\\\2 & 2\\end{matrix}\\right]$"
      ],
      "text/plain": [
       "⎡3  -1⎤\n",
       "⎢     ⎥\n",
       "⎣2  2 ⎦"
      ]
     },
     "execution_count": 23,
     "metadata": {},
     "output_type": "execute_result"
    }
   ],
   "source": [
    "A = Matrix([ [-1 ,2 ] , [0 , 3]])\n",
    "B = Matrix([ [4 ,-3 ] , [2 , -1]])\n",
    "\n",
    "A+B"
   ]
  },
  {
   "cell_type": "code",
   "execution_count": 10,
   "metadata": {},
   "outputs": [
    {
     "data": {
      "image/png": "[encoded data removed]",
      "text/latex": [
       "$\\displaystyle O\\left(\\left(x - 1\\right)^{\\infty}; x\\rightarrow 1\\right)$"
      ],
      "text/plain": [
       " ⎛       ∞       ⎞\n",
       "O⎝(x - 1) ; x → 1⎠"
      ]
     },
     "execution_count": 10,
     "metadata": {},
     "output_type": "execute_result"
    }
   ],
   "source": [
    "AS= x / (x+3)\n",
    "\n",
    "AS.series(x , 1 , oo)"
   ]
  }
 ],
 "metadata": {
  "interpreter": {
   "hash": "38740d3277777e2cd7c6c2cc9d8addf5118fdf3f82b1b39231fd12aeac8aee8b"
  },
  "kernelspec": {
   "display_name": "Python 3.9.7 64-bit",
   "name": "python3"
  },
  "language_info": {
   "codemirror_mode": {
    "name": "ipython",
    "version": 3
   },
   "file_extension": ".py",
   "mimetype": "text/x-python",
   "name": "python",
   "nbconvert_exporter": "python",
   "pygments_lexer": "ipython3",
   "version": "3.9.7"
  }
 },
 "nbformat": 4,
 "nbformat_minor": 2
}
